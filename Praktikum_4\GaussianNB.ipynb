{
  "nbformat": 4,
  "nbformat_minor": 0,
  "metadata": {
    "colab": {
      "provenance": [],
      "authorship_tag": "ABX9TyOnvLsMzPCzxCqfNrDlcz5g",
      "include_colab_link": true
    },
    "kernelspec": {
      "name": "python3",
      "display_name": "Python 3"
    },
    "language_info": {
      "name": "python"
    }
  },
  "cells": [
    {
      "cell_type": "markdown",
      "metadata": {
        "id": "view-in-github",
        "colab_type": "text"
      },
      "source": [
        "<a href=\"https://colab.research.google.com/github/Alone1011/2311532011-Rifki-TugasPweb-API-CRUD/blob/main/Praktikum_4%5CGaussianNB.ipynb\" target=\"_parent\"><img src=\"https://colab.research.google.com/assets/colab-badge.svg\" alt=\"Open In Colab\"/></a>"
      ]
    },
    {
      "cell_type": "markdown",
      "source": [
        "# Import Library\n",
        "\n",
        "Import library yang dibutuhkan untuk memulai. Dan muat dataset yang diperlukan"
      ],
      "metadata": {
        "id": "o7QblZa6n-FL"
      }
    },
    {
      "cell_type": "code",
      "execution_count": 1,
      "metadata": {
        "colab": {
          "base_uri": "https://localhost:8080/",
          "height": 206
        },
        "id": "Kl6T8zxBm_9Y",
        "outputId": "fd2fc4ab-4279-4edc-a86e-155d92f26a58"
      },
      "outputs": [
        {
          "output_type": "execute_result",
          "data": {
            "text/plain": [
              "   Rainfall  Temperature  Humidity  WindSpeed Play\n",
              "0       0.0         29.4      85.0        2.1   No\n",
              "1       2.0         26.7      90.0       21.2   No\n",
              "2       7.0         28.3      78.0        1.5  Yes\n",
              "3      18.0         21.1      96.0        3.3  Yes\n",
              "4       3.0         20.0      80.0        2.0  Yes"
            ],
            "text/html": [
              "\n",
              "  <div id=\"df-4668d3c2-3619-4451-b896-eee2f7fcc6ba\" class=\"colab-df-container\">\n",
              "    <div>\n",
              "<style scoped>\n",
              "    .dataframe tbody tr th:only-of-type {\n",
              "        vertical-align: middle;\n",
              "    }\n",
              "\n",
              "    .dataframe tbody tr th {\n",
              "        vertical-align: top;\n",
              "    }\n",
              "\n",
              "    .dataframe thead th {\n",
              "        text-align: right;\n",
              "    }\n",
              "</style>\n",
              "<table border=\"1\" class=\"dataframe\">\n",
              "  <thead>\n",
              "    <tr style=\"text-align: right;\">\n",
              "      <th></th>\n",
              "      <th>Rainfall</th>\n",
              "      <th>Temperature</th>\n",
              "      <th>Humidity</th>\n",
              "      <th>WindSpeed</th>\n",
              "      <th>Play</th>\n",
              "    </tr>\n",
              "  </thead>\n",
              "  <tbody>\n",
              "    <tr>\n",
              "      <th>0</th>\n",
              "      <td>0.0</td>\n",
              "      <td>29.4</td>\n",
              "      <td>85.0</td>\n",
              "      <td>2.1</td>\n",
              "      <td>No</td>\n",
              "    </tr>\n",
              "    <tr>\n",
              "      <th>1</th>\n",
              "      <td>2.0</td>\n",
              "      <td>26.7</td>\n",
              "      <td>90.0</td>\n",
              "      <td>21.2</td>\n",
              "      <td>No</td>\n",
              "    </tr>\n",
              "    <tr>\n",
              "      <th>2</th>\n",
              "      <td>7.0</td>\n",
              "      <td>28.3</td>\n",
              "      <td>78.0</td>\n",
              "      <td>1.5</td>\n",
              "      <td>Yes</td>\n",
              "    </tr>\n",
              "    <tr>\n",
              "      <th>3</th>\n",
              "      <td>18.0</td>\n",
              "      <td>21.1</td>\n",
              "      <td>96.0</td>\n",
              "      <td>3.3</td>\n",
              "      <td>Yes</td>\n",
              "    </tr>\n",
              "    <tr>\n",
              "      <th>4</th>\n",
              "      <td>3.0</td>\n",
              "      <td>20.0</td>\n",
              "      <td>80.0</td>\n",
              "      <td>2.0</td>\n",
              "      <td>Yes</td>\n",
              "    </tr>\n",
              "  </tbody>\n",
              "</table>\n",
              "</div>\n",
              "    <div class=\"colab-df-buttons\">\n",
              "\n",
              "  <div class=\"colab-df-container\">\n",
              "    <button class=\"colab-df-convert\" onclick=\"convertToInteractive('df-4668d3c2-3619-4451-b896-eee2f7fcc6ba')\"\n",
              "            title=\"Convert this dataframe to an interactive table.\"\n",
              "            style=\"display:none;\">\n",
              "\n",
              "  <svg xmlns=\"http://www.w3.org/2000/svg\" height=\"24px\" viewBox=\"0 -960 960 960\">\n",
              "    <path d=\"M120-120v-720h720v720H120Zm60-500h600v-160H180v160Zm220 220h160v-160H400v160Zm0 220h160v-160H400v160ZM180-400h160v-160H180v160Zm440 0h160v-160H620v160ZM180-180h160v-160H180v160Zm440 0h160v-160H620v160Z\"/>\n",
              "  </svg>\n",
              "    </button>\n",
              "\n",
              "  <style>\n",
              "    .colab-df-container {\n",
              "      display:flex;\n",
              "      gap: 12px;\n",
              "    }\n",
              "\n",
              "    .colab-df-convert {\n",
              "      background-color: #E8F0FE;\n",
              "      border: none;\n",
              "      border-radius: 50%;\n",
              "      cursor: pointer;\n",
              "      display: none;\n",
              "      fill: #1967D2;\n",
              "      height: 32px;\n",
              "      padding: 0 0 0 0;\n",
              "      width: 32px;\n",
              "    }\n",
              "\n",
              "    .colab-df-convert:hover {\n",
              "      background-color: #E2EBFA;\n",
              "      box-shadow: 0px 1px 2px rgba(60, 64, 67, 0.3), 0px 1px 3px 1px rgba(60, 64, 67, 0.15);\n",
              "      fill: #174EA6;\n",
              "    }\n",
              "\n",
              "    .colab-df-buttons div {\n",
              "      margin-bottom: 4px;\n",
              "    }\n",
              "\n",
              "    [theme=dark] .colab-df-convert {\n",
              "      background-color: #3B4455;\n",
              "      fill: #D2E3FC;\n",
              "    }\n",
              "\n",
              "    [theme=dark] .colab-df-convert:hover {\n",
              "      background-color: #434B5C;\n",
              "      box-shadow: 0px 1px 3px 1px rgba(0, 0, 0, 0.15);\n",
              "      filter: drop-shadow(0px 1px 2px rgba(0, 0, 0, 0.3));\n",
              "      fill: #FFFFFF;\n",
              "    }\n",
              "  </style>\n",
              "\n",
              "    <script>\n",
              "      const buttonEl =\n",
              "        document.querySelector('#df-4668d3c2-3619-4451-b896-eee2f7fcc6ba button.colab-df-convert');\n",
              "      buttonEl.style.display =\n",
              "        google.colab.kernel.accessAllowed ? 'block' : 'none';\n",
              "\n",
              "      async function convertToInteractive(key) {\n",
              "        const element = document.querySelector('#df-4668d3c2-3619-4451-b896-eee2f7fcc6ba');\n",
              "        const dataTable =\n",
              "          await google.colab.kernel.invokeFunction('convertToInteractive',\n",
              "                                                    [key], {});\n",
              "        if (!dataTable) return;\n",
              "\n",
              "        const docLinkHtml = 'Like what you see? Visit the ' +\n",
              "          '<a target=\"_blank\" href=https://colab.research.google.com/notebooks/data_table.ipynb>data table notebook</a>'\n",
              "          + ' to learn more about interactive tables.';\n",
              "        element.innerHTML = '';\n",
              "        dataTable['output_type'] = 'display_data';\n",
              "        await google.colab.output.renderOutput(dataTable, element);\n",
              "        const docLink = document.createElement('div');\n",
              "        docLink.innerHTML = docLinkHtml;\n",
              "        element.appendChild(docLink);\n",
              "      }\n",
              "    </script>\n",
              "  </div>\n",
              "\n",
              "\n",
              "    <div id=\"df-06801246-8dd2-40b4-ad92-51fa798e9378\">\n",
              "      <button class=\"colab-df-quickchart\" onclick=\"quickchart('df-06801246-8dd2-40b4-ad92-51fa798e9378')\"\n",
              "                title=\"Suggest charts\"\n",
              "                style=\"display:none;\">\n",
              "\n",
              "<svg xmlns=\"http://www.w3.org/2000/svg\" height=\"24px\"viewBox=\"0 0 24 24\"\n",
              "     width=\"24px\">\n",
              "    <g>\n",
              "        <path d=\"M19 3H5c-1.1 0-2 .9-2 2v14c0 1.1.9 2 2 2h14c1.1 0 2-.9 2-2V5c0-1.1-.9-2-2-2zM9 17H7v-7h2v7zm4 0h-2V7h2v10zm4 0h-2v-4h2v4z\"/>\n",
              "    </g>\n",
              "</svg>\n",
              "      </button>\n",
              "\n",
              "<style>\n",
              "  .colab-df-quickchart {\n",
              "      --bg-color: #E8F0FE;\n",
              "      --fill-color: #1967D2;\n",
              "      --hover-bg-color: #E2EBFA;\n",
              "      --hover-fill-color: #174EA6;\n",
              "      --disabled-fill-color: #AAA;\n",
              "      --disabled-bg-color: #DDD;\n",
              "  }\n",
              "\n",
              "  [theme=dark] .colab-df-quickchart {\n",
              "      --bg-color: #3B4455;\n",
              "      --fill-color: #D2E3FC;\n",
              "      --hover-bg-color: #434B5C;\n",
              "      --hover-fill-color: #FFFFFF;\n",
              "      --disabled-bg-color: #3B4455;\n",
              "      --disabled-fill-color: #666;\n",
              "  }\n",
              "\n",
              "  .colab-df-quickchart {\n",
              "    background-color: var(--bg-color);\n",
              "    border: none;\n",
              "    border-radius: 50%;\n",
              "    cursor: pointer;\n",
              "    display: none;\n",
              "    fill: var(--fill-color);\n",
              "    height: 32px;\n",
              "    padding: 0;\n",
              "    width: 32px;\n",
              "  }\n",
              "\n",
              "  .colab-df-quickchart:hover {\n",
              "    background-color: var(--hover-bg-color);\n",
              "    box-shadow: 0 1px 2px rgba(60, 64, 67, 0.3), 0 1px 3px 1px rgba(60, 64, 67, 0.15);\n",
              "    fill: var(--button-hover-fill-color);\n",
              "  }\n",
              "\n",
              "  .colab-df-quickchart-complete:disabled,\n",
              "  .colab-df-quickchart-complete:disabled:hover {\n",
              "    background-color: var(--disabled-bg-color);\n",
              "    fill: var(--disabled-fill-color);\n",
              "    box-shadow: none;\n",
              "  }\n",
              "\n",
              "  .colab-df-spinner {\n",
              "    border: 2px solid var(--fill-color);\n",
              "    border-color: transparent;\n",
              "    border-bottom-color: var(--fill-color);\n",
              "    animation:\n",
              "      spin 1s steps(1) infinite;\n",
              "  }\n",
              "\n",
              "  @keyframes spin {\n",
              "    0% {\n",
              "      border-color: transparent;\n",
              "      border-bottom-color: var(--fill-color);\n",
              "      border-left-color: var(--fill-color);\n",
              "    }\n",
              "    20% {\n",
              "      border-color: transparent;\n",
              "      border-left-color: var(--fill-color);\n",
              "      border-top-color: var(--fill-color);\n",
              "    }\n",
              "    30% {\n",
              "      border-color: transparent;\n",
              "      border-left-color: var(--fill-color);\n",
              "      border-top-color: var(--fill-color);\n",
              "      border-right-color: var(--fill-color);\n",
              "    }\n",
              "    40% {\n",
              "      border-color: transparent;\n",
              "      border-right-color: var(--fill-color);\n",
              "      border-top-color: var(--fill-color);\n",
              "    }\n",
              "    60% {\n",
              "      border-color: transparent;\n",
              "      border-right-color: var(--fill-color);\n",
              "    }\n",
              "    80% {\n",
              "      border-color: transparent;\n",
              "      border-right-color: var(--fill-color);\n",
              "      border-bottom-color: var(--fill-color);\n",
              "    }\n",
              "    90% {\n",
              "      border-color: transparent;\n",
              "      border-bottom-color: var(--fill-color);\n",
              "    }\n",
              "  }\n",
              "</style>\n",
              "\n",
              "      <script>\n",
              "        async function quickchart(key) {\n",
              "          const quickchartButtonEl =\n",
              "            document.querySelector('#' + key + ' button');\n",
              "          quickchartButtonEl.disabled = true;  // To prevent multiple clicks.\n",
              "          quickchartButtonEl.classList.add('colab-df-spinner');\n",
              "          try {\n",
              "            const charts = await google.colab.kernel.invokeFunction(\n",
              "                'suggestCharts', [key], {});\n",
              "          } catch (error) {\n",
              "            console.error('Error during call to suggestCharts:', error);\n",
              "          }\n",
              "          quickchartButtonEl.classList.remove('colab-df-spinner');\n",
              "          quickchartButtonEl.classList.add('colab-df-quickchart-complete');\n",
              "        }\n",
              "        (() => {\n",
              "          let quickchartButtonEl =\n",
              "            document.querySelector('#df-06801246-8dd2-40b4-ad92-51fa798e9378 button');\n",
              "          quickchartButtonEl.style.display =\n",
              "            google.colab.kernel.accessAllowed ? 'block' : 'none';\n",
              "        })();\n",
              "      </script>\n",
              "    </div>\n",
              "\n",
              "    </div>\n",
              "  </div>\n"
            ],
            "application/vnd.google.colaboratory.intrinsic+json": {
              "type": "dataframe",
              "variable_name": "df",
              "summary": "{\n  \"name\": \"df\",\n  \"rows\": 28,\n  \"fields\": [\n    {\n      \"column\": \"Rainfall\",\n      \"properties\": {\n        \"dtype\": \"number\",\n        \"std\": 6.270785542717221,\n        \"min\": 0.0,\n        \"max\": 25.0,\n        \"num_unique_values\": 11,\n        \"samples\": [\n          1.0,\n          0.0,\n          8.0\n        ],\n        \"semantic_type\": \"\",\n        \"description\": \"\"\n      }\n    },\n    {\n      \"column\": \"Temperature\",\n      \"properties\": {\n        \"dtype\": \"number\",\n        \"std\": 3.723902132165544,\n        \"min\": 17.8,\n        \"max\": 31.1,\n        \"num_unique_values\": 23,\n        \"samples\": [\n          27.8,\n          23.9,\n          29.4\n        ],\n        \"semantic_type\": \"\",\n        \"description\": \"\"\n      }\n    },\n    {\n      \"column\": \"Humidity\",\n      \"properties\": {\n        \"dtype\": \"number\",\n        \"std\": 10.354241520281311,\n        \"min\": 60.0,\n        \"max\": 96.0,\n        \"num_unique_values\": 12,\n        \"samples\": [\n          92.0,\n          88.0,\n          85.0\n        ],\n        \"semantic_type\": \"\",\n        \"description\": \"\"\n      }\n    },\n    {\n      \"column\": \"WindSpeed\",\n      \"properties\": {\n        \"dtype\": \"number\",\n        \"std\": 7.684956616732342,\n        \"min\": 1.5,\n        \"max\": 30.3,\n        \"num_unique_values\": 26,\n        \"samples\": [\n          2.7,\n          21.9,\n          2.1\n        ],\n        \"semantic_type\": \"\",\n        \"description\": \"\"\n      }\n    },\n    {\n      \"column\": \"Play\",\n      \"properties\": {\n        \"dtype\": \"category\",\n        \"num_unique_values\": 2,\n        \"samples\": [\n          \"Yes\",\n          \"No\"\n        ],\n        \"semantic_type\": \"\",\n        \"description\": \"\"\n      }\n    }\n  ]\n}"
            }
          },
          "metadata": {},
          "execution_count": 1
        }
      ],
      "source": [
        "import pandas as pd\n",
        "from sklearn.model_selection import train_test_split\n",
        "import numpy as np\n",
        "from sklearn.metrics import accuracy_score\n",
        "\n",
        "dataset_dict = {\n",
        "    'Rainfall': [0.0, 2.0, 7.0, 18.0, 3.0, 3.0, 0.0, 1.0, 0.0, 25.0, 0.0, 18.0, 9.0, 5.0, 0.0, 1.0, 7.0, 0.0, 0.0, 7.0, 5.0, 3.0, 0.0, 2.0, 0.0, 8.0, 4.0, 4.0],\n",
        "    'Temperature': [29.4, 26.7, 28.3, 21.1, 20.0, 18.3, 17.8, 22.2, 20.6, 23.9, 23.9, 22.2, 27.2, 21.7, 27.2, 23.3, 24.4, 25.6, 27.8, 19.4, 29.4, 22.8, 31.1, 25.0, 26.1, 26.7, 18.9, 28.9],\n",
        "    'Humidity': [85.0, 90.0, 78.0, 96.0, 80.0, 70.0, 65.0, 95.0, 70.0, 80.0, 70.0, 90.0, 75.0, 80.0, 88.0, 92.0, 85.0, 75.0, 92.0, 90.0, 85.0, 88.0, 65.0, 70.0, 60.0, 95.0, 70.0, 78.0],\n",
        "    'WindSpeed': [2.1, 21.2, 1.5, 3.3, 2.0, 17.4, 14.9, 6.9, 2.7, 1.6, 30.3, 10.9, 3.0, 7.5, 10.3, 3.0, 3.9, 21.9, 2.6, 17.3, 9.6, 1.9, 16.0, 4.6, 3.2, 8.3, 3.2, 2.2],\n",
        "    'Play': ['No', 'No', 'Yes', 'Yes', 'Yes', 'No', 'Yes', 'No', 'Yes', 'Yes', 'Yes', 'Yes', 'Yes', 'No', 'No', 'Yes', 'Yes', 'No', 'No', 'No', 'Yes', 'Yes', 'Yes', 'Yes', 'Yes', 'Yes', 'No', 'Yes']\n",
        "}\n",
        "\n",
        "df = pd.DataFrame(dataset_dict)\n",
        "df.head()\n"
      ]
    },
    {
      "cell_type": "markdown",
      "source": [
        "Mengimpor pustaka yang diperlukan seperti pandas, numpy, dan fungsi dari sklearn.\n",
        "\n",
        "1. Membuat dataset manual berbentuk dictionary (dataset_dict) yang berisi fitur-fitur seperti:\n",
        "\n",
        "  * Rainfall (curah hujan),\n",
        "\n",
        "  * Temperature (suhu),\n",
        "\n",
        "  * Humidity (kelembapan),\n",
        "\n",
        "  * WindSpeed (kecepatan angin),\n",
        "\n",
        "  * serta label Play (Yes/No).\n",
        "\n",
        "2. Dataset tersebut dikonversi menjadi DataFrame (df) menggunakan pd.DataFrame.\n",
        "\n",
        "3. df.head() digunakan untuk menampilkan 5 baris pertama data.\n",
        "\n"
      ],
      "metadata": {
        "id": "uX6BP4_5odKJ"
      }
    },
    {
      "cell_type": "markdown",
      "source": [
        "# Split Data"
      ],
      "metadata": {
        "id": "0bPebynko1lS"
      }
    },
    {
      "cell_type": "code",
      "source": [
        "X, y = df.drop(columns = 'Play'), df['Play']\n",
        "X_train, X_test, y_train, y_test = train_test_split(X, y, train_size = 0.7, shuffle = False)\n",
        "\n",
        "print(pd.concat([X_train, y_train], axis = 1), end='\\n\\n')\n",
        "print(pd.concat([X_test, y_test], axis = 1))\n",
        "\n",
        ""
      ],
      "metadata": {
        "colab": {
          "base_uri": "https://localhost:8080/"
        },
        "id": "MgXEfRyonPMi",
        "outputId": "e4114961-816e-488f-a3d0-64283ecb14c4"
      },
      "execution_count": 2,
      "outputs": [
        {
          "output_type": "stream",
          "name": "stdout",
          "text": [
            "    Rainfall  Temperature  Humidity  WindSpeed Play\n",
            "0        0.0         29.4      85.0        2.1   No\n",
            "1        2.0         26.7      90.0       21.2   No\n",
            "2        7.0         28.3      78.0        1.5  Yes\n",
            "3       18.0         21.1      96.0        3.3  Yes\n",
            "4        3.0         20.0      80.0        2.0  Yes\n",
            "5        3.0         18.3      70.0       17.4   No\n",
            "6        0.0         17.8      65.0       14.9  Yes\n",
            "7        1.0         22.2      95.0        6.9   No\n",
            "8        0.0         20.6      70.0        2.7  Yes\n",
            "9       25.0         23.9      80.0        1.6  Yes\n",
            "10       0.0         23.9      70.0       30.3  Yes\n",
            "11      18.0         22.2      90.0       10.9  Yes\n",
            "12       9.0         27.2      75.0        3.0  Yes\n",
            "13       5.0         21.7      80.0        7.5   No\n",
            "14       0.0         27.2      88.0       10.3   No\n",
            "15       1.0         23.3      92.0        3.0  Yes\n",
            "16       7.0         24.4      85.0        3.9  Yes\n",
            "17       0.0         25.6      75.0       21.9   No\n",
            "18       0.0         27.8      92.0        2.6   No\n",
            "\n",
            "    Rainfall  Temperature  Humidity  WindSpeed Play\n",
            "19       7.0         19.4      90.0       17.3   No\n",
            "20       5.0         29.4      85.0        9.6  Yes\n",
            "21       3.0         22.8      88.0        1.9  Yes\n",
            "22       0.0         31.1      65.0       16.0  Yes\n",
            "23       2.0         25.0      70.0        4.6  Yes\n",
            "24       0.0         26.1      60.0        3.2  Yes\n",
            "25       8.0         26.7      95.0        8.3  Yes\n",
            "26       4.0         18.9      70.0        3.2   No\n",
            "27       4.0         28.9      78.0        2.2  Yes\n"
          ]
        }
      ]
    },
    {
      "cell_type": "markdown",
      "source": [
        "Bagi data menjadi X dimana berisi semua fitur (tanpa kolom Play) dan y adalah target (Play). Lalu data yang dibagi menjadi training 70% dan testing 30%"
      ],
      "metadata": {
        "id": "wbC7sLP_o4R6"
      }
    },
    {
      "cell_type": "markdown",
      "source": [
        "# Transforming non-Gaussian distributed data"
      ],
      "metadata": {
        "id": "7dtI7iSRpUsN"
      }
    },
    {
      "cell_type": "code",
      "source": [
        "\n",
        "from sklearn.preprocessing import PowerTransformer\n",
        "\n",
        "pt = PowerTransformer(standardize = True)\n",
        "X_train_transformed = pt.fit_transform(X_train)\n",
        "X_test_transformed = pt.transform(X_test)\n",
        "print(X_train_transformed, end='\\n\\n')\n",
        "print(X_test_transformed)"
      ],
      "metadata": {
        "id": "X8IWsLZ7nRMh"
      },
      "execution_count": null,
      "outputs": []
    },
    {
      "cell_type": "markdown",
      "source": [
        "1. Menggunakan PowerTransformer untuk melakukan transformasi pada fitur numerik agar distribusi data lebih menyerupai distribusi normal.\n",
        "\n",
        "2. fit_transform() diterapkan pada X_train (pelatihan), lalu transform() diterapkan pada X_test (pengujian).\n",
        "\n",
        "3. Hasil transformasi ditampilkan dalam bentuk array."
      ],
      "metadata": {
        "id": "-CE7Hym1pbLL"
      }
    },
    {
      "cell_type": "code",
      "source": [
        "y_train = (y_train == 'Yes').astype(int)\n",
        "y_train.head()"
      ],
      "metadata": {
        "id": "zbvSugsTnTVB"
      },
      "execution_count": null,
      "outputs": []
    },
    {
      "cell_type": "markdown",
      "source": [
        "Ubah label Play dari tipe data string menjadi biner (0/1). Karena algoritma pembelajaran ini menerima input numerik saja."
      ],
      "metadata": {
        "id": "VMhpRm_3p163"
      }
    },
    {
      "cell_type": "code",
      "source": [
        "# Count the occurrences of 1 and 0 in the 'Play' column\n",
        "one_count = y_train.value_counts()[1]\n",
        "print(f\"Count of 1s in 'Play' column: {one_count}\")\n",
        "zero_count = y_train.value_counts()[0]\n",
        "print(f\"Count of 0s in 'Play' column: {zero_count}\")\n",
        "total_count = one_count + zero_count\n",
        "print(f\"Total count: {total_count}\")\n",
        "\n",
        "# Calculate the ratio\n",
        "ratio_true = one_count / total_count\n",
        "ratio_false = zero_count / total_count\n",
        "\n",
        "print(f\"Ratio of 1s in 'Play' column: {ratio_true}\")\n",
        "print(f\"Ratio of 0s in 'Play' column: {ratio_false}\")"
      ],
      "metadata": {
        "id": "ygZoSX2PnXsc"
      },
      "execution_count": null,
      "outputs": []
    },
    {
      "cell_type": "markdown",
      "source": [
        "Hitung jumlah dan proporsi dari masing-masing kelas target dalam data pelatihan. Setelah label Play dikonversi menjadi nilai numerik (dengan Yes menjadi 1 dan No menjadi 0), dilakukan proses penghitungan jumlah kemunculan masing-masing label (yaitu label 1 dan label 0). Dari hasil tersebut, kemudian dihitung rasio masing-masing kelas terhadap total data. Rasio ini menggambarkan probabilitas awal atau prior probability dalam konteks klasifikasi menggunakan algoritma Gaussian Naive Bayes. Nilai ini penting karena akan digunakan dalam proses perhitungan probabilitas gabungan saat melakukan prediksi, sesuai dengan prinsip Teorema Bayes."
      ],
      "metadata": {
        "id": "WJ0eVps4qgY1"
      }
    },
    {
      "cell_type": "code",
      "source": [
        "# prompt: make a function for compute mean and variance, then concat X_train and y_train, then from that function compute for each feature in X_train. seperate 1 and 0. seperate function to compute mean and variance. store into variable\n",
        "\n",
        "def compute_mean_variance(data):\n",
        "    return np.mean(data), np.var(data)\n",
        "\n",
        "def compute_stats_by_class(X_train, y_train):\n",
        "    # Concatenate X_train and y_train\n",
        "    combined_data = pd.concat([X_train, y_train], axis=1)\n",
        "\n",
        "    # Separate data based on classes (0 and 1)\n",
        "    class_0_data = combined_data[combined_data['Play'] == 0]\n",
        "    class_1_data = combined_data[combined_data['Play'] == 1]\n",
        "\n",
        "    # Dictionary to store mean and variance for each feature and class\n",
        "    stats = {}\n",
        "    for col in X_train.columns:\n",
        "        stats[col] = {\n",
        "            0: compute_mean_variance(class_0_data[col]),\n",
        "            1: compute_mean_variance(class_1_data[col])\n",
        "        }\n",
        "    return stats\n",
        "\n",
        "# Example usage (assuming X_train and y_train are defined as in your previous code)\n",
        "feature_stats = compute_stats_by_class(X_train, y_train)\n",
        "feature_stats\n"
      ],
      "metadata": {
        "id": "P29A0NrunaA7"
      },
      "execution_count": null,
      "outputs": []
    },
    {
      "cell_type": "markdown",
      "source": [
        "Hitung statistik deskriptif berupa rata-rata (mean) dan ragam (variance) dari masing-masing fitur pada data pelatihan, yang dipisahkan berdasarkan kelas targetnya. Pertama, X_train dan y_train digabung menjadi satu DataFrame untuk mempermudah pemisahan data berdasarkan kelas (0 dan 1). Selanjutnya, untuk setiap fitur dalam data latih, dihitung nilai rata-rata dan variansinya untuk masing-masing kelas. Nilai-nilai statistik ini akan digunakan dalam perhitungan probabilitas distribusi Gaussian (Normal) selama proses prediksi. Ini merupakan inti dari pendekatan Gaussian Naive Bayes, yaitu mengasumsikan bahwa setiap fitur mengikuti distribusi normal yang ditentukan oleh mean dan variance-nya pada masing-masing kelas."
      ],
      "metadata": {
        "id": "KQw9MKWRqlDZ"
      }
    }
  ]
}